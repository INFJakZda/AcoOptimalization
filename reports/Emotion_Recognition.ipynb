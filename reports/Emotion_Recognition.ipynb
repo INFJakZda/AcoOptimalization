{
  "nbformat": 4,
  "nbformat_minor": 0,
  "metadata": {
    "colab": {
      "name": "Emotion-Recognition.ipynb",
      "provenance": [],
      "mount_file_id": "1Ln6PqOazFoNJQgW_YMHW_jG2Gs3HJFsW",
      "authorship_tag": "ABX9TyOgp+7yW+mtWPAs4sxne6j/",
      "include_colab_link": true
    },
    "kernelspec": {
      "name": "python3",
      "display_name": "Python 3"
    },
    "accelerator": "GPU"
  },
  "cells": [
    {
      "cell_type": "markdown",
      "metadata": {
        "id": "view-in-github",
        "colab_type": "text"
      },
      "source": [
        "<a href=\"https://colab.research.google.com/github/INFJakZda/AcoOptimalization/blob/master/reports/Emotion_Recognition.ipynb\" target=\"_parent\"><img src=\"https://colab.research.google.com/assets/colab-badge.svg\" alt=\"Open In Colab\"/></a>"
      ]
    },
    {
      "cell_type": "markdown",
      "metadata": {
        "id": "XX5917kxRHqt",
        "colab_type": "text"
      },
      "source": [
        "# Importowanie bibliotek"
      ]
    },
    {
      "cell_type": "code",
      "metadata": {
        "id": "PhmDQwc_RTEC",
        "colab_type": "code",
        "colab": {
          "base_uri": "https://localhost:8080/",
          "height": 34
        },
        "outputId": "95f7b4e6-a69e-4e7e-b1bc-915470aca7ba"
      },
      "source": [
        "import argparse\n",
        "import io\n",
        "import json\n",
        "import os\n",
        "import re\n",
        "import numpy as np\n",
        "from matplotlib import pyplot as plt\n",
        "\n",
        "from pylab import rcParams\n",
        "\n",
        "import tensorflow as tf\n",
        "print(tf.__version__)\n",
        "\n",
        "from keras import optimizers\n",
        "from keras.layers import Dense, Embedding, LSTM, Bidirectional\n",
        "from keras.models import Sequential\n",
        "from keras.preprocessing.sequence import pad_sequences\n",
        "from keras.preprocessing.text import Tokenizer\n",
        "from keras.utils import to_categorical\n"
      ],
      "execution_count": 2,
      "outputs": [
        {
          "output_type": "stream",
          "text": [
            "2.3.0\n"
          ],
          "name": "stdout"
        }
      ]
    },
    {
      "cell_type": "code",
      "metadata": {
        "id": "83G5cOreJFQR",
        "colab_type": "code",
        "colab": {
          "base_uri": "https://localhost:8080/",
          "height": 34
        },
        "outputId": "3b52ad09-766a-4845-f66c-4f21cb726899"
      },
      "source": [
        "from google.colab import drive\n",
        "drive.mount('/content/drive')"
      ],
      "execution_count": 3,
      "outputs": [
        {
          "output_type": "stream",
          "text": [
            "Drive already mounted at /content/drive; to attempt to forcibly remount, call drive.mount(\"/content/drive\", force_remount=True).\n"
          ],
          "name": "stdout"
        }
      ]
    },
    {
      "cell_type": "markdown",
      "metadata": {
        "id": "tqEiwUivRQhM",
        "colab_type": "text"
      },
      "source": [
        "# Funkcje pomocnicze"
      ]
    },
    {
      "cell_type": "markdown",
      "metadata": {
        "id": "k29zUFVlRCqX",
        "colab_type": "text"
      },
      "source": [
        "## Definicja stałych"
      ]
    },
    {
      "cell_type": "code",
      "metadata": {
        "id": "xvIDBfw-J1Uj",
        "colab_type": "code",
        "colab": {}
      },
      "source": [
        "EMBEDDING_DIM=100\n",
        "LSTM_DIM=120\n",
        "NUM_CLASSES=4\n",
        "MAX_SEQUENCE_LENGTH=200\n",
        "DROPOUT=0.2\n",
        "LEARNING_RATE=0.003\n",
        "NUM_FOLDS=5\n",
        "MAX_NB_WORDS=20000\n",
        "BATCH_SIZE=200\n",
        "NUM_EPOCHS=100"
      ],
      "execution_count": 4,
      "outputs": []
    },
    {
      "cell_type": "markdown",
      "metadata": {
        "id": "Ar3GMjxnm3FN",
        "colab_type": "text"
      },
      "source": [
        "## Funkcje"
      ]
    },
    {
      "cell_type": "code",
      "metadata": {
        "id": "cvsMNMSPPDmf",
        "colab_type": "code",
        "colab": {}
      },
      "source": [
        "def getOneLayerLSTM(embeddingMatrix):\n",
        "    \"\"\"Constructs the architecture of the model\n",
        "    Input:\n",
        "        embeddingMatrix : The embedding matrix to be loaded in the embedding layer.\n",
        "    Output:\n",
        "        model : A basic LSTM model\n",
        "    \"\"\"\n",
        "    embeddingLayer = Embedding(embeddingMatrix.shape[0],\n",
        "                               EMBEDDING_DIM,\n",
        "                               weights=[embeddingMatrix],\n",
        "                               input_length=MAX_SEQUENCE_LENGTH,\n",
        "                               trainable=False)\n",
        "    model = Sequential()\n",
        "    model.add(embeddingLayer)\n",
        "    model.add(LSTM(LSTM_DIM, dropout=DROPOUT))\n",
        "    model.add(Dense(NUM_CLASSES, activation='sigmoid'))\n",
        "\n",
        "    rmsprop = tf.keras.optimizers.RMSprop(lr=LEARNING_RATE)\n",
        "    model.compile(loss='categorical_crossentropy',\n",
        "                  optimizer=rmsprop,\n",
        "                  metrics=['acc'])\n",
        "    return model"
      ],
      "execution_count": 7,
      "outputs": []
    },
    {
      "cell_type": "code",
      "metadata": {
        "id": "q7xHhWSXO8BM",
        "colab_type": "code",
        "colab": {}
      },
      "source": [
        "def getDeepLSTM(embeddingMatrix):\n",
        "    \"\"\"Constructs the architecture of the model\n",
        "    Input:\n",
        "        embeddingMatrix : The embedding matrix to be loaded in the embedding layer.\n",
        "    Output:\n",
        "        model : A basic LSTM model\n",
        "    \"\"\"\n",
        "    embeddingLayer = Embedding(embeddingMatrix.shape[0],\n",
        "                               EMBEDDING_DIM,\n",
        "                               weights=[embeddingMatrix],\n",
        "                               input_length=MAX_SEQUENCE_LENGTH,\n",
        "                               trainable=False)\n",
        "    model = Sequential()\n",
        "    model.add(embeddingLayer)\n",
        "    model.add(Bidirectional(LSTM(LSTM_DIM, dropout=DROPOUT, return_sequences=True)))\n",
        "    model.add(Bidirectional(LSTM(LSTM_DIM, dropout=DROPOUT, return_sequences=True)))\n",
        "    model.add(Bidirectional(LSTM(LSTM_DIM)))\n",
        "    model.add(Dense(LSTM_DIM, activation='relu'))\n",
        "    model.add(Dense(64, activation='relu'))\n",
        "    model.add(Dense(NUM_CLASSES, activation='softmax'))\n",
        "\n",
        "    rmsprop = tf.keras.optimizers.RMSprop(lr=LEARNING_RATE)\n",
        "    model.compile(loss='categorical_crossentropy',\n",
        "                  optimizer=rmsprop,\n",
        "                  metrics=['acc'])\n",
        "    return model"
      ],
      "execution_count": 8,
      "outputs": []
    },
    {
      "cell_type": "code",
      "metadata": {
        "id": "uC_UksqOKgla",
        "colab_type": "code",
        "colab": {}
      },
      "source": [
        "def preprocessData(dataFilePath, mode, eos=\" <eos> \"):\n",
        "    \"\"\"Load data from a file, process and return indices, conversations and labels in separate lists\n",
        "    Input:\n",
        "        dataFilePath : Path to train/test file to be processed\n",
        "        mode : \"train\" mode returns labels. \"test\" mode doesn't return labels.\n",
        "    Output:\n",
        "        indices : Unique conversation ID list\n",
        "        conversations : List of 3 turn conversations, processed and each turn separated by the <eos> tag\n",
        "        labels : [Only available in \"train\" mode] List of labels\n",
        "    \"\"\"\n",
        "    indices = []\n",
        "    conversations = []\n",
        "    labels = []\n",
        "    with io.open(dataFilePath, encoding=\"utf8\") as finput:\n",
        "        finput.readline()\n",
        "        for line in finput:\n",
        "            # Convert multiple instances of . ? ! , to single instance\n",
        "            # okay...sure -> okay . sure\n",
        "            # okay???sure -> okay ? sure\n",
        "            # Add whitespace around such punctuation\n",
        "            # okay!sure -> okay ! sure\n",
        "            repeatedChars = ['.', '?', '!', ',']\n",
        "            for c in repeatedChars:\n",
        "                lineSplit = line.split(c)\n",
        "                while True:\n",
        "                    try:\n",
        "                        lineSplit.remove('')\n",
        "                    except:\n",
        "                        break\n",
        "                cSpace = ' ' + c + ' '\n",
        "                line = cSpace.join(lineSplit)\n",
        "\n",
        "            line = line.strip().split('\\t')\n",
        "            if mode == \"train\":\n",
        "                # Train data contains id, 3 turns and label\n",
        "                label = emotion2label[line[4]]\n",
        "                labels.append(label)\n",
        "\n",
        "            conv = f'{eos}'.join(line[1:4])\n",
        "\n",
        "            # Remove any duplicate spaces\n",
        "            duplicateSpacePattern = re.compile(r'\\ +')\n",
        "            conv = re.sub(duplicateSpacePattern, ' ', conv)\n",
        "\n",
        "            indices.append(int(line[0]))\n",
        "            conversations.append(conv.lower())\n",
        "\n",
        "    if mode == \"train\":\n",
        "        return indices, conversations, labels\n",
        "    else:\n",
        "        return indices, conversations"
      ],
      "execution_count": 9,
      "outputs": []
    },
    {
      "cell_type": "code",
      "metadata": {
        "id": "gKDpnW3xRWO1",
        "colab_type": "code",
        "colab": {}
      },
      "source": [
        "def getMetrics(predictions, ground):\n",
        "    \"\"\"Given predicted labels and the respective ground truth labels, display some metrics\n",
        "    Input: shape [# of samples, NUM_CLASSES]\n",
        "        predictions : Model output. Every row has 4 decimal values, with the highest belonging to the predicted class\n",
        "        ground : Ground truth labels, converted to one-hot encodings. A sample belonging to Happy class will be [0, 1, 0, 0]\n",
        "    Output:\n",
        "        accuracy : Average accuracy\n",
        "        microPrecision : Precision calculated on a micro level. Ref - https://datascience.stackexchange.com/questions/15989/micro-average-vs-macro-average-performance-in-a-multiclass-classification-settin/16001\n",
        "        microRecall : Recall calculated on a micro level\n",
        "        microF1 : Harmonic mean of microPrecision and microRecall. Higher value implies better classification  \n",
        "    \"\"\"\n",
        "    # [0.1, 0.3 , 0.2, 0.1] -> [0, 1, 0, 0]\n",
        "    discretePredictions = to_categorical(predictions.argmax(axis=1))\n",
        "\n",
        "    truePositives = np.sum(discretePredictions * ground, axis=0)\n",
        "    falsePositives = np.sum(np.clip(discretePredictions - ground, 0, 1), axis=0)\n",
        "    falseNegatives = np.sum(np.clip(ground - discretePredictions, 0, 1), axis=0)\n",
        "\n",
        "    print(\"True Positives per class : \", truePositives)\n",
        "    print(\"False Positives per class : \", falsePositives)\n",
        "    print(\"False Negatives per class : \", falseNegatives)\n",
        "\n",
        "    # ------------- Macro level calculation ---------------\n",
        "    macroPrecision = 0\n",
        "    macroRecall = 0\n",
        "    # We ignore the \"Others\" class during the calculation of Precision, Recall and F1\n",
        "    for c in range(1, NUM_CLASSES):\n",
        "        precision = truePositives[c] / (truePositives[c] + falsePositives[c])\n",
        "        macroPrecision += precision\n",
        "        recall = truePositives[c] / (truePositives[c] + falseNegatives[c])\n",
        "        macroRecall += recall\n",
        "        f1 = (2 * recall * precision) / (precision + recall) if (precision + recall) > 0 else 0\n",
        "        print(\"Class %s : Precision : %.3f, Recall : %.3f, F1 : %.3f\" % (label2emotion[c], precision, recall, f1))\n",
        "\n",
        "    macroPrecision /= 3\n",
        "    macroRecall /= 3\n",
        "    macroF1 = (2 * macroRecall * macroPrecision) / (macroPrecision + macroRecall) if (\n",
        "                                                                                             macroPrecision + macroRecall) > 0 else 0\n",
        "    print(\"Ignoring the Others class, Macro Precision : %.4f, Macro Recall : %.4f, Macro F1 : %.4f\" % (\n",
        "        macroPrecision, macroRecall, macroF1))\n",
        "\n",
        "    # ------------- Micro level calculation ---------------\n",
        "    truePositives = truePositives[1:].sum()\n",
        "    falsePositives = falsePositives[1:].sum()\n",
        "    falseNegatives = falseNegatives[1:].sum()\n",
        "\n",
        "    print(\n",
        "        \"Ignoring the Others class, Micro TP : %d, FP : %d, FN : %d\" % (truePositives, falsePositives, falseNegatives))\n",
        "\n",
        "    microPrecision = truePositives / (truePositives + falsePositives)\n",
        "    microRecall = truePositives / (truePositives + falseNegatives)\n",
        "\n",
        "    microF1 = (2 * microRecall * microPrecision) / (microPrecision + microRecall) if (\n",
        "                                                                                             microPrecision + microRecall) > 0 else 0\n",
        "    # -----------------------------------------------------\n",
        "\n",
        "    predictions = predictions.argmax(axis=1)\n",
        "    ground = ground.argmax(axis=1)\n",
        "    accuracy = np.mean(predictions == ground)\n",
        "\n",
        "    print(\"Accuracy : %.4f, Micro Precision : %.4f, Micro Recall : %.4f, Micro F1 : %.4f\" % (\n",
        "        accuracy, microPrecision, microRecall, microF1))\n",
        "    return accuracy, microPrecision, microRecall, microF1"
      ],
      "execution_count": 10,
      "outputs": []
    },
    {
      "cell_type": "code",
      "metadata": {
        "id": "olB06zRUL5v-",
        "colab_type": "code",
        "colab": {}
      },
      "source": [
        "def getEmbeddingMatrix(wordIndex):\n",
        "    \"\"\"Populate an embedding matrix using a word-index. If the word \"happy\" has an index 19,\n",
        "       the 19th row in the embedding matrix should contain the embedding vector for the word \"happy\".\n",
        "    Input:\n",
        "        wordIndex : A dictionary of (word : index) pairs, extracted using a tokeniser\n",
        "    Output:\n",
        "        embeddingMatrix : A matrix where every row has 100 dimensional GloVe embedding\n",
        "    \"\"\"\n",
        "    embeddingsIndex = {}\n",
        "    # Load the embedding vectors from ther GloVe file\n",
        "    with io.open(gloveDir, encoding=\"utf8\") as f:\n",
        "        for line in f:\n",
        "            values = line.split()\n",
        "            word = values[0]\n",
        "            embeddingVector = np.asarray(values[1:], dtype='float32')\n",
        "            embeddingsIndex[word] = embeddingVector\n",
        "\n",
        "    print('Found %s word vectors.' % len(embeddingsIndex))\n",
        "\n",
        "    # Minimum word index of any word is 1. \n",
        "    embeddingMatrix = np.zeros((len(wordIndex) + 1, EMBEDDING_DIM))\n",
        "    for word, i in wordIndex.items():\n",
        "        embeddingVector = embeddingsIndex.get(word)\n",
        "        if embeddingVector is not None:\n",
        "            # words not found in embedding index will be all-zeros.\n",
        "            embeddingMatrix[i] = embeddingVector\n",
        "\n",
        "    return embeddingMatrix"
      ],
      "execution_count": 11,
      "outputs": []
    },
    {
      "cell_type": "markdown",
      "metadata": {
        "id": "rJNaTW9TLbpP",
        "colab_type": "text"
      },
      "source": [
        "# Kod wykonawczy"
      ]
    },
    {
      "cell_type": "code",
      "metadata": {
        "id": "HJ3WBPefVBT0",
        "colab_type": "code",
        "colab": {}
      },
      "source": [
        "mainPath = '/content/drive/My Drive/Magisterka/'\n",
        "\n",
        "trainDataPath = mainPath + 'train.txt'\n",
        "devDataPath = mainPath + 'test.txt'\n",
        "testDataPath = mainPath + 'test.txt'\n",
        "\n",
        "solutionPath = mainPath + 'solution/'\n",
        "\n",
        "gloveDir = mainPath + 'glove.6B.100d.txt'\n",
        "\n",
        "label2emotion = {0: \"others\", 1: \"happy\", 2: \"sad\", 3: \"angry\"}\n",
        "emotion2label = {\"others\": 0, \"happy\": 1, \"sad\": 2, \"angry\": 3}"
      ],
      "execution_count": 12,
      "outputs": []
    },
    {
      "cell_type": "markdown",
      "metadata": {
        "id": "0PaB9bkpLhbq",
        "colab_type": "text"
      },
      "source": [
        "## Przetwarzanie danych"
      ]
    },
    {
      "cell_type": "code",
      "metadata": {
        "id": "NvrfngZYKmkU",
        "colab_type": "code",
        "colab": {}
      },
      "source": [
        "trainIndices, trainTexts, trainLabels = preprocessData(trainDataPath, mode=\"train\")\n",
        "devIndices, devTexts, devLabels = preprocessData(devDataPath, mode=\"train\")\n",
        "testIndices, testTexts, testLabels = preprocessData(testDataPath, mode=\"train\")"
      ],
      "execution_count": 13,
      "outputs": []
    },
    {
      "cell_type": "code",
      "metadata": {
        "id": "Rp0tBYt5KwLW",
        "colab_type": "code",
        "colab": {}
      },
      "source": [
        "tokenizer = Tokenizer(num_words=MAX_NB_WORDS)\n",
        "tokenizer.fit_on_texts(trainTexts)\n",
        "\n",
        "trainSequences = tokenizer.texts_to_sequences(trainTexts)\n",
        "devSequences = tokenizer.texts_to_sequences(devTexts)\n",
        "testSequences = tokenizer.texts_to_sequences(testTexts)"
      ],
      "execution_count": 14,
      "outputs": []
    },
    {
      "cell_type": "code",
      "metadata": {
        "id": "CdxqJJZ2SLY3",
        "colab_type": "code",
        "colab": {
          "base_uri": "https://localhost:8080/",
          "height": 34
        },
        "outputId": "42afef58-669d-4251-d433-55d384a4ef8f"
      },
      "source": [
        "wordIndex = tokenizer.word_index\n",
        "embeddingMatrix = getEmbeddingMatrix(wordIndex)"
      ],
      "execution_count": 15,
      "outputs": [
        {
          "output_type": "stream",
          "text": [
            "Found 400000 word vectors.\n"
          ],
          "name": "stdout"
        }
      ]
    },
    {
      "cell_type": "code",
      "metadata": {
        "id": "lLaju_GdSXiV",
        "colab_type": "code",
        "colab": {}
      },
      "source": [
        "dataTrain = pad_sequences(trainSequences, maxlen=MAX_SEQUENCE_LENGTH)\n",
        "dataDev = pad_sequences(devSequences, maxlen=MAX_SEQUENCE_LENGTH)\n",
        "dataTest = pad_sequences(testSequences, maxlen=MAX_SEQUENCE_LENGTH)\n",
        "\n",
        "trainLabels = to_categorical(np.asarray(trainLabels))\n",
        "devLabels = to_categorical(np.asarray(devLabels))\n",
        "testLabels = to_categorical(np.asarray(testLabels))"
      ],
      "execution_count": 16,
      "outputs": []
    },
    {
      "cell_type": "markdown",
      "metadata": {
        "id": "uWaYLnQLS0bk",
        "colab_type": "text"
      },
      "source": [
        "## Budowa i ewaluacja modeli"
      ]
    },
    {
      "cell_type": "markdown",
      "metadata": {
        "id": "CR0u6E2vTQfS",
        "colab_type": "text"
      },
      "source": [
        "### Jednowarstwowy LSTM"
      ]
    },
    {
      "cell_type": "code",
      "metadata": {
        "id": "QJqUdH1hXdOg",
        "colab_type": "code",
        "colab": {
          "base_uri": "https://localhost:8080/",
          "height": 255
        },
        "outputId": "7dc2a603-d968-4870-c889-7e93d5d5aacb"
      },
      "source": [
        "model = getOneLayerLSTM(embeddingMatrix)\n",
        "\n",
        "model.summary()"
      ],
      "execution_count": 17,
      "outputs": [
        {
          "output_type": "stream",
          "text": [
            "Model: \"sequential\"\n",
            "_________________________________________________________________\n",
            "Layer (type)                 Output Shape              Param #   \n",
            "=================================================================\n",
            "embedding (Embedding)        (None, 200, 100)          1683200   \n",
            "_________________________________________________________________\n",
            "lstm (LSTM)                  (None, 120)               106080    \n",
            "_________________________________________________________________\n",
            "dense (Dense)                (None, 4)                 484       \n",
            "=================================================================\n",
            "Total params: 1,789,764\n",
            "Trainable params: 106,564\n",
            "Non-trainable params: 1,683,200\n",
            "_________________________________________________________________\n"
          ],
          "name": "stdout"
        }
      ]
    },
    {
      "cell_type": "code",
      "metadata": {
        "id": "KZFDh0dXSvgo",
        "colab_type": "code",
        "colab": {
          "base_uri": "https://localhost:8080/",
          "height": 1000
        },
        "outputId": "0a0ad90f-0afe-48a6-badd-e903c32f008a"
      },
      "source": [
        "history = model.fit(dataTrain, trainLabels, validation_data=(dataDev, devLabels), epochs=NUM_EPOCHS, batch_size=BATCH_SIZE)\n",
        "model.save(mainPath + 'EP%d_LR%de-5_LDim%d_BS%d.h5' % (NUM_EPOCHS, int(LEARNING_RATE * (10 ** 5)), LSTM_DIM, BATCH_SIZE))"
      ],
      "execution_count": 18,
      "outputs": [
        {
          "output_type": "stream",
          "text": [
            "Epoch 1/100\n",
            "151/151 [==============================] - 10s 66ms/step - loss: 0.8679 - acc: 0.6491 - val_loss: 0.5086 - val_acc: 0.8067\n",
            "Epoch 2/100\n",
            "151/151 [==============================] - 9s 62ms/step - loss: 0.6003 - acc: 0.7677 - val_loss: 0.3874 - val_acc: 0.8640\n",
            "Epoch 3/100\n",
            "151/151 [==============================] - 9s 61ms/step - loss: 0.5137 - acc: 0.8058 - val_loss: 0.3497 - val_acc: 0.8766\n",
            "Epoch 4/100\n",
            "151/151 [==============================] - 9s 62ms/step - loss: 0.4518 - acc: 0.8293 - val_loss: 0.4391 - val_acc: 0.8461\n",
            "Epoch 5/100\n",
            "151/151 [==============================] - 9s 62ms/step - loss: 0.4131 - acc: 0.8463 - val_loss: 0.4484 - val_acc: 0.8308\n",
            "Epoch 6/100\n",
            "151/151 [==============================] - 9s 62ms/step - loss: 0.3834 - acc: 0.8556 - val_loss: 0.3229 - val_acc: 0.8913\n",
            "Epoch 7/100\n",
            "151/151 [==============================] - 9s 62ms/step - loss: 0.3693 - acc: 0.8607 - val_loss: 0.4034 - val_acc: 0.8584\n",
            "Epoch 8/100\n",
            "151/151 [==============================] - 9s 61ms/step - loss: 0.3469 - acc: 0.8688 - val_loss: 0.3801 - val_acc: 0.8657\n",
            "Epoch 9/100\n",
            "151/151 [==============================] - 9s 62ms/step - loss: 0.3249 - acc: 0.8765 - val_loss: 0.3739 - val_acc: 0.8706\n",
            "Epoch 10/100\n",
            "151/151 [==============================] - 9s 62ms/step - loss: 0.3157 - acc: 0.8815 - val_loss: 0.3809 - val_acc: 0.8700\n",
            "Epoch 11/100\n",
            "151/151 [==============================] - 9s 62ms/step - loss: 0.2927 - acc: 0.8907 - val_loss: 0.4139 - val_acc: 0.8541\n",
            "Epoch 12/100\n",
            "151/151 [==============================] - 9s 62ms/step - loss: 0.2756 - acc: 0.8967 - val_loss: 0.3714 - val_acc: 0.8755\n",
            "Epoch 13/100\n",
            "151/151 [==============================] - 9s 61ms/step - loss: 0.2607 - acc: 0.9005 - val_loss: 0.4077 - val_acc: 0.8633\n",
            "Epoch 14/100\n",
            "151/151 [==============================] - 9s 62ms/step - loss: 0.2423 - acc: 0.9074 - val_loss: 0.4118 - val_acc: 0.8631\n",
            "Epoch 15/100\n",
            "151/151 [==============================] - 9s 62ms/step - loss: 0.2282 - acc: 0.9143 - val_loss: 0.4636 - val_acc: 0.8506\n",
            "Epoch 16/100\n",
            "151/151 [==============================] - 9s 62ms/step - loss: 0.2877 - acc: 0.8937 - val_loss: 0.4438 - val_acc: 0.8575\n",
            "Epoch 17/100\n",
            "151/151 [==============================] - 9s 62ms/step - loss: 0.2136 - acc: 0.9190 - val_loss: 0.4216 - val_acc: 0.8704\n",
            "Epoch 18/100\n",
            "151/151 [==============================] - 9s 62ms/step - loss: 0.2045 - acc: 0.9220 - val_loss: 0.3916 - val_acc: 0.8800\n",
            "Epoch 19/100\n",
            "151/151 [==============================] - 9s 62ms/step - loss: 0.1899 - acc: 0.9287 - val_loss: 0.4513 - val_acc: 0.8648\n",
            "Epoch 20/100\n",
            "151/151 [==============================] - 9s 62ms/step - loss: 0.1833 - acc: 0.9315 - val_loss: 0.4493 - val_acc: 0.8646\n",
            "Epoch 21/100\n",
            "151/151 [==============================] - 9s 62ms/step - loss: 0.1709 - acc: 0.9360 - val_loss: 0.4675 - val_acc: 0.8619\n",
            "Epoch 22/100\n",
            "151/151 [==============================] - 9s 62ms/step - loss: 0.1665 - acc: 0.9383 - val_loss: 0.4790 - val_acc: 0.8600\n",
            "Epoch 23/100\n",
            "151/151 [==============================] - 9s 62ms/step - loss: 0.1552 - acc: 0.9401 - val_loss: 0.5192 - val_acc: 0.8513\n",
            "Epoch 24/100\n",
            "151/151 [==============================] - 9s 62ms/step - loss: 0.1526 - acc: 0.9438 - val_loss: 0.4629 - val_acc: 0.8742\n",
            "Epoch 25/100\n",
            "151/151 [==============================] - 9s 62ms/step - loss: 0.1449 - acc: 0.9454 - val_loss: 0.5492 - val_acc: 0.8506\n",
            "Epoch 26/100\n",
            "151/151 [==============================] - 9s 62ms/step - loss: 0.1397 - acc: 0.9463 - val_loss: 0.5008 - val_acc: 0.8664\n",
            "Epoch 27/100\n",
            "151/151 [==============================] - 9s 62ms/step - loss: 0.1331 - acc: 0.9511 - val_loss: 0.4944 - val_acc: 0.8748\n",
            "Epoch 28/100\n",
            "151/151 [==============================] - 9s 62ms/step - loss: 0.1251 - acc: 0.9545 - val_loss: 0.5396 - val_acc: 0.8604\n",
            "Epoch 29/100\n",
            "151/151 [==============================] - 9s 62ms/step - loss: 0.1356 - acc: 0.9513 - val_loss: 0.5886 - val_acc: 0.8446\n",
            "Epoch 30/100\n",
            "151/151 [==============================] - 10s 63ms/step - loss: 0.1157 - acc: 0.9578 - val_loss: 0.5608 - val_acc: 0.8581\n",
            "Epoch 31/100\n",
            "151/151 [==============================] - 9s 63ms/step - loss: 0.1162 - acc: 0.9566 - val_loss: 0.5399 - val_acc: 0.8639\n",
            "Epoch 32/100\n",
            "151/151 [==============================] - 9s 62ms/step - loss: 0.1145 - acc: 0.9580 - val_loss: 0.5553 - val_acc: 0.8655\n",
            "Epoch 33/100\n",
            "151/151 [==============================] - 9s 61ms/step - loss: 0.1074 - acc: 0.9597 - val_loss: 0.5296 - val_acc: 0.8680\n",
            "Epoch 34/100\n",
            "151/151 [==============================] - 9s 61ms/step - loss: 0.2748 - acc: 0.9073 - val_loss: 0.5483 - val_acc: 0.8664\n",
            "Epoch 35/100\n",
            "151/151 [==============================] - 9s 62ms/step - loss: 0.1115 - acc: 0.9583 - val_loss: 0.5852 - val_acc: 0.8561\n",
            "Epoch 36/100\n",
            "151/151 [==============================] - 9s 62ms/step - loss: 0.1640 - acc: 0.9457 - val_loss: 0.6036 - val_acc: 0.8513\n",
            "Epoch 37/100\n",
            "151/151 [==============================] - 9s 62ms/step - loss: 0.1113 - acc: 0.9598 - val_loss: 0.5964 - val_acc: 0.8510\n",
            "Epoch 38/100\n",
            "151/151 [==============================] - 9s 62ms/step - loss: 0.1010 - acc: 0.9624 - val_loss: 0.6646 - val_acc: 0.8417\n",
            "Epoch 39/100\n",
            "151/151 [==============================] - 9s 62ms/step - loss: 0.1005 - acc: 0.9628 - val_loss: 0.6125 - val_acc: 0.8544\n",
            "Epoch 40/100\n",
            "151/151 [==============================] - 9s 62ms/step - loss: 0.0968 - acc: 0.9639 - val_loss: 0.6249 - val_acc: 0.8510\n",
            "Epoch 41/100\n",
            "151/151 [==============================] - 9s 62ms/step - loss: 0.0957 - acc: 0.9642 - val_loss: 0.6376 - val_acc: 0.8508\n",
            "Epoch 42/100\n",
            "151/151 [==============================] - 9s 62ms/step - loss: 0.0942 - acc: 0.9649 - val_loss: 0.6403 - val_acc: 0.8551\n",
            "Epoch 43/100\n",
            "151/151 [==============================] - 9s 62ms/step - loss: 0.0930 - acc: 0.9654 - val_loss: 0.6630 - val_acc: 0.8512\n",
            "Epoch 44/100\n",
            "151/151 [==============================] - 9s 62ms/step - loss: 0.0925 - acc: 0.9659 - val_loss: 0.6682 - val_acc: 0.8473\n",
            "Epoch 45/100\n",
            "151/151 [==============================] - 9s 62ms/step - loss: 0.0857 - acc: 0.9684 - val_loss: 0.6007 - val_acc: 0.8664\n",
            "Epoch 46/100\n",
            "151/151 [==============================] - 9s 62ms/step - loss: 0.0877 - acc: 0.9676 - val_loss: 0.6664 - val_acc: 0.8482\n",
            "Epoch 47/100\n",
            "151/151 [==============================] - 9s 62ms/step - loss: 0.0872 - acc: 0.9679 - val_loss: 0.6243 - val_acc: 0.8606\n",
            "Epoch 48/100\n",
            "151/151 [==============================] - 9s 61ms/step - loss: 0.0852 - acc: 0.9684 - val_loss: 0.6756 - val_acc: 0.8510\n",
            "Epoch 49/100\n",
            "151/151 [==============================] - 9s 62ms/step - loss: 0.0853 - acc: 0.9686 - val_loss: 0.6454 - val_acc: 0.8588\n",
            "Epoch 50/100\n",
            "151/151 [==============================] - 9s 62ms/step - loss: 0.0861 - acc: 0.9682 - val_loss: 0.6667 - val_acc: 0.8628\n",
            "Epoch 51/100\n",
            "151/151 [==============================] - 9s 62ms/step - loss: 0.0824 - acc: 0.9688 - val_loss: 0.6481 - val_acc: 0.8588\n",
            "Epoch 52/100\n",
            "151/151 [==============================] - 9s 62ms/step - loss: 0.0856 - acc: 0.9683 - val_loss: 0.6410 - val_acc: 0.8673\n",
            "Epoch 53/100\n",
            "151/151 [==============================] - 9s 62ms/step - loss: 0.0808 - acc: 0.9697 - val_loss: 0.6712 - val_acc: 0.8571\n",
            "Epoch 54/100\n",
            "151/151 [==============================] - 9s 62ms/step - loss: 0.0787 - acc: 0.9706 - val_loss: 0.6639 - val_acc: 0.8597\n",
            "Epoch 55/100\n",
            "151/151 [==============================] - 9s 62ms/step - loss: 0.0785 - acc: 0.9707 - val_loss: 0.6513 - val_acc: 0.8581\n",
            "Epoch 56/100\n",
            "151/151 [==============================] - 9s 62ms/step - loss: 0.0791 - acc: 0.9705 - val_loss: 0.7107 - val_acc: 0.8515\n",
            "Epoch 57/100\n",
            "151/151 [==============================] - 9s 62ms/step - loss: 0.0812 - acc: 0.9694 - val_loss: 0.6842 - val_acc: 0.8584\n",
            "Epoch 58/100\n",
            "151/151 [==============================] - 9s 61ms/step - loss: 0.0791 - acc: 0.9713 - val_loss: 0.7025 - val_acc: 0.8562\n",
            "Epoch 59/100\n",
            "151/151 [==============================] - 9s 62ms/step - loss: 0.1953 - acc: 0.9382 - val_loss: 0.6774 - val_acc: 0.8544\n",
            "Epoch 60/100\n",
            "151/151 [==============================] - 9s 62ms/step - loss: 0.1446 - acc: 0.9490 - val_loss: 0.6451 - val_acc: 0.8637\n",
            "Epoch 61/100\n",
            "151/151 [==============================] - 9s 62ms/step - loss: 0.1369 - acc: 0.9511 - val_loss: 0.6595 - val_acc: 0.8482\n",
            "Epoch 62/100\n",
            "151/151 [==============================] - 9s 62ms/step - loss: 0.1553 - acc: 0.9455 - val_loss: 0.6267 - val_acc: 0.8669\n",
            "Epoch 63/100\n",
            "151/151 [==============================] - 9s 63ms/step - loss: 0.1259 - acc: 0.9549 - val_loss: 0.6305 - val_acc: 0.8628\n",
            "Epoch 64/100\n",
            "151/151 [==============================] - 9s 62ms/step - loss: 0.0901 - acc: 0.9673 - val_loss: 0.6640 - val_acc: 0.8559\n",
            "Epoch 65/100\n",
            "151/151 [==============================] - 9s 62ms/step - loss: 0.0814 - acc: 0.9699 - val_loss: 0.6562 - val_acc: 0.8651\n",
            "Epoch 66/100\n",
            "151/151 [==============================] - 9s 62ms/step - loss: 0.0822 - acc: 0.9701 - val_loss: 0.6521 - val_acc: 0.8630\n",
            "Epoch 67/100\n",
            "151/151 [==============================] - 9s 62ms/step - loss: 0.0777 - acc: 0.9705 - val_loss: 0.7063 - val_acc: 0.8522\n",
            "Epoch 68/100\n",
            "151/151 [==============================] - 9s 61ms/step - loss: 0.0780 - acc: 0.9719 - val_loss: 0.6199 - val_acc: 0.8729\n",
            "Epoch 69/100\n",
            "151/151 [==============================] - 9s 62ms/step - loss: 0.0787 - acc: 0.9710 - val_loss: 0.6472 - val_acc: 0.8671\n",
            "Epoch 70/100\n",
            "151/151 [==============================] - 9s 62ms/step - loss: 0.0733 - acc: 0.9736 - val_loss: 0.6848 - val_acc: 0.8597\n",
            "Epoch 71/100\n",
            "151/151 [==============================] - 9s 62ms/step - loss: 0.0730 - acc: 0.9733 - val_loss: 0.6816 - val_acc: 0.8595\n",
            "Epoch 72/100\n",
            "151/151 [==============================] - 9s 63ms/step - loss: 0.0735 - acc: 0.9732 - val_loss: 0.6799 - val_acc: 0.8604\n",
            "Epoch 73/100\n",
            "151/151 [==============================] - 9s 62ms/step - loss: 0.0721 - acc: 0.9745 - val_loss: 0.7233 - val_acc: 0.8499\n",
            "Epoch 74/100\n",
            "151/151 [==============================] - 9s 62ms/step - loss: 0.0763 - acc: 0.9719 - val_loss: 0.6868 - val_acc: 0.8599\n",
            "Epoch 75/100\n",
            "151/151 [==============================] - 9s 62ms/step - loss: 0.0740 - acc: 0.9723 - val_loss: 0.6608 - val_acc: 0.8651\n",
            "Epoch 76/100\n",
            "151/151 [==============================] - 9s 62ms/step - loss: 0.0703 - acc: 0.9743 - val_loss: 0.7057 - val_acc: 0.8542\n",
            "Epoch 77/100\n",
            "151/151 [==============================] - 9s 62ms/step - loss: 0.0730 - acc: 0.9734 - val_loss: 0.6778 - val_acc: 0.8664\n",
            "Epoch 78/100\n",
            "151/151 [==============================] - 9s 62ms/step - loss: 0.0713 - acc: 0.9739 - val_loss: 0.7034 - val_acc: 0.8613\n",
            "Epoch 79/100\n",
            "151/151 [==============================] - 9s 62ms/step - loss: 0.0698 - acc: 0.9744 - val_loss: 0.7229 - val_acc: 0.8575\n",
            "Epoch 80/100\n",
            "151/151 [==============================] - 9s 62ms/step - loss: 0.0700 - acc: 0.9750 - val_loss: 0.6601 - val_acc: 0.8697\n",
            "Epoch 81/100\n",
            "151/151 [==============================] - 9s 62ms/step - loss: 0.0688 - acc: 0.9745 - val_loss: 0.7116 - val_acc: 0.8593\n",
            "Epoch 82/100\n",
            "151/151 [==============================] - 9s 62ms/step - loss: 0.0687 - acc: 0.9753 - val_loss: 0.7125 - val_acc: 0.8577\n",
            "Epoch 83/100\n",
            "151/151 [==============================] - 9s 62ms/step - loss: 0.0685 - acc: 0.9747 - val_loss: 0.6916 - val_acc: 0.8639\n",
            "Epoch 84/100\n",
            "151/151 [==============================] - 9s 62ms/step - loss: 0.0687 - acc: 0.9750 - val_loss: 0.7183 - val_acc: 0.8573\n",
            "Epoch 85/100\n",
            "151/151 [==============================] - 9s 62ms/step - loss: 0.0710 - acc: 0.9743 - val_loss: 0.7184 - val_acc: 0.8626\n",
            "Epoch 86/100\n",
            "151/151 [==============================] - 9s 62ms/step - loss: 0.0677 - acc: 0.9755 - val_loss: 0.7185 - val_acc: 0.8588\n",
            "Epoch 87/100\n",
            "151/151 [==============================] - 9s 62ms/step - loss: 0.0668 - acc: 0.9754 - val_loss: 0.7375 - val_acc: 0.8551\n",
            "Epoch 88/100\n",
            "151/151 [==============================] - 9s 62ms/step - loss: 0.0715 - acc: 0.9738 - val_loss: 0.7404 - val_acc: 0.8542\n",
            "Epoch 89/100\n",
            "151/151 [==============================] - 9s 62ms/step - loss: 0.0687 - acc: 0.9741 - val_loss: 0.7175 - val_acc: 0.8595\n",
            "Epoch 90/100\n",
            "151/151 [==============================] - 9s 62ms/step - loss: 0.0720 - acc: 0.9741 - val_loss: 0.7003 - val_acc: 0.8571\n",
            "Epoch 91/100\n",
            "151/151 [==============================] - 9s 63ms/step - loss: 0.0684 - acc: 0.9750 - val_loss: 0.7315 - val_acc: 0.8595\n",
            "Epoch 92/100\n",
            "151/151 [==============================] - 9s 62ms/step - loss: 0.0658 - acc: 0.9751 - val_loss: 0.7514 - val_acc: 0.8488\n",
            "Epoch 93/100\n",
            "151/151 [==============================] - 9s 62ms/step - loss: 0.0679 - acc: 0.9744 - val_loss: 0.7078 - val_acc: 0.8613\n",
            "Epoch 94/100\n",
            "151/151 [==============================] - 9s 62ms/step - loss: 0.0644 - acc: 0.9761 - val_loss: 0.7003 - val_acc: 0.8620\n",
            "Epoch 95/100\n",
            "151/151 [==============================] - 9s 62ms/step - loss: 0.0674 - acc: 0.9748 - val_loss: 0.6960 - val_acc: 0.8653\n",
            "Epoch 96/100\n",
            "151/151 [==============================] - 9s 63ms/step - loss: 0.0644 - acc: 0.9758 - val_loss: 0.7588 - val_acc: 0.8515\n",
            "Epoch 97/100\n",
            "151/151 [==============================] - 10s 63ms/step - loss: 0.0678 - acc: 0.9750 - val_loss: 0.7715 - val_acc: 0.8495\n",
            "Epoch 98/100\n",
            "151/151 [==============================] - 9s 62ms/step - loss: 0.0680 - acc: 0.9747 - val_loss: 0.7560 - val_acc: 0.8566\n",
            "Epoch 99/100\n",
            "151/151 [==============================] - 9s 62ms/step - loss: 0.0668 - acc: 0.9758 - val_loss: 0.7188 - val_acc: 0.8604\n",
            "Epoch 100/100\n",
            "151/151 [==============================] - 9s 62ms/step - loss: 0.0629 - acc: 0.9764 - val_loss: 0.7502 - val_acc: 0.8595\n"
          ],
          "name": "stdout"
        }
      ]
    },
    {
      "cell_type": "code",
      "metadata": {
        "id": "FC_BrB7Kg8VO",
        "colab_type": "code",
        "colab": {}
      },
      "source": [
        "rcParams['figure.figsize'] = 8,6\n",
        "plt.plot(history.history['acc'])\n",
        "plt.ylabel('accuracy')\n",
        "plt.xlabel('epoch')\n",
        "plt.legend(['train'], loc='lower right')\n",
        "plt.show()"
      ],
      "execution_count": null,
      "outputs": []
    },
    {
      "cell_type": "code",
      "metadata": {
        "id": "id1jVTepidV9",
        "colab_type": "code",
        "colab": {}
      },
      "source": [
        "rcParams['figure.figsize'] = 8,6\n",
        "plt.plot(history.history['loss'])\n",
        "plt.ylabel('loss')\n",
        "plt.xlabel('epoch')\n",
        "plt.legend(['train'], loc='right')\n",
        "plt.show()"
      ],
      "execution_count": null,
      "outputs": []
    },
    {
      "cell_type": "code",
      "metadata": {
        "id": "mbR5Lkc1occ5",
        "colab_type": "code",
        "colab": {
          "base_uri": "https://localhost:8080/",
          "height": 406
        },
        "outputId": "0361a5ff-2827-405b-ecd1-38e1f4c71a7b"
      },
      "source": [
        "rcParams['figure.figsize'] = 16, 6\n",
        "\n",
        "fig, (ax1, ax2) = plt.subplots(1, 2)\n",
        "ax1.plot(history.history['loss'])\n",
        "ax1.set(xlabel='epoch', ylabel='loss')\n",
        "ax1.legend(['train'], loc='right')\n",
        "ax2.plot(history.history['acc'])\n",
        "ax2.set(xlabel='epoch', ylabel='accuracy')\n",
        "ax2.legend(['train'], loc='lower right')"
      ],
      "execution_count": 19,
      "outputs": [
        {
          "output_type": "execute_result",
          "data": {
            "text/plain": [
              "<matplotlib.legend.Legend at 0x7f7d805bfda0>"
            ]
          },
          "metadata": {
            "tags": []
          },
          "execution_count": 19
        },
        {
          "output_type": "display_data",
          "data": {
            "image/png": "[encoded data removed]",
            "text/plain": [
              "<Figure size 1152x432 with 2 Axes>"
            ]
          },
          "metadata": {
            "tags": [],
            "needs_background": "light"
          }
        }
      ]
    },
    {
      "cell_type": "code",
      "metadata": {
        "id": "pAWCqDkHPejB",
        "colab_type": "code",
        "colab": {
          "base_uri": "https://localhost:8080/",
          "height": 170
        },
        "outputId": "fc7ede80-9923-4b91-9a2d-a0d5cbc251e1"
      },
      "source": [
        "predictions = model.predict(dataTest, batch_size=BATCH_SIZE)\n",
        "accuracy, microPrecision, microRecall, microF1 = getMetrics(predictions, testLabels)"
      ],
      "execution_count": 20,
      "outputs": [
        {
          "output_type": "stream",
          "text": [
            "True Positives per class :  [4146.  182.  173.  234.]\n",
            "False Positives per class :  [180. 184. 238. 172.]\n",
            "False Negatives per class :  [531. 102.  77.  64.]\n",
            "Class happy : Precision : 0.497, Recall : 0.641, F1 : 0.560\n",
            "Class sad : Precision : 0.421, Recall : 0.692, F1 : 0.523\n",
            "Class angry : Precision : 0.576, Recall : 0.785, F1 : 0.665\n",
            "Ignoring the Others class, Macro Precision : 0.4982, Macro Recall : 0.7060, Macro F1 : 0.5842\n",
            "Ignoring the Others class, Micro TP : 589, FP : 594, FN : 243\n",
            "Accuracy : 0.8595, Micro Precision : 0.4979, Micro Recall : 0.7079, Micro F1 : 0.5846\n"
          ],
          "name": "stdout"
        }
      ]
    },
    {
      "cell_type": "markdown",
      "metadata": {
        "id": "YlFC-t55TVCj",
        "colab_type": "text"
      },
      "source": [
        "### Głęboki LSTM"
      ]
    },
    {
      "cell_type": "code",
      "metadata": {
        "id": "nuMS6ZemRqfu",
        "colab_type": "code",
        "colab": {
          "base_uri": "https://localhost:8080/",
          "height": 391
        },
        "outputId": "332b2b88-d863-45e2-f08f-09e28ad34a17"
      },
      "source": [
        "modelDeep = getDeepLSTM(embeddingMatrix)\n",
        "\n",
        "modelDeep.summary()"
      ],
      "execution_count": 21,
      "outputs": [
        {
          "output_type": "stream",
          "text": [
            "Model: \"sequential_1\"\n",
            "_________________________________________________________________\n",
            "Layer (type)                 Output Shape              Param #   \n",
            "=================================================================\n",
            "embedding_1 (Embedding)      (None, 200, 100)          1683200   \n",
            "_________________________________________________________________\n",
            "bidirectional (Bidirectional (None, 200, 240)          212160    \n",
            "_________________________________________________________________\n",
            "bidirectional_1 (Bidirection (None, 200, 240)          346560    \n",
            "_________________________________________________________________\n",
            "bidirectional_2 (Bidirection (None, 240)               346560    \n",
            "_________________________________________________________________\n",
            "dense_1 (Dense)              (None, 120)               28920     \n",
            "_________________________________________________________________\n",
            "dense_2 (Dense)              (None, 64)                7744      \n",
            "_________________________________________________________________\n",
            "dense_3 (Dense)              (None, 4)                 260       \n",
            "=================================================================\n",
            "Total params: 2,625,404\n",
            "Trainable params: 942,204\n",
            "Non-trainable params: 1,683,200\n",
            "_________________________________________________________________\n"
          ],
          "name": "stdout"
        }
      ]
    },
    {
      "cell_type": "code",
      "metadata": {
        "id": "J2Yi_3jDLFYJ",
        "colab_type": "code",
        "colab": {
          "base_uri": "https://localhost:8080/",
          "height": 1000
        },
        "outputId": "3f8c19c5-8c9f-4e3e-f069-cb1538f43e5c"
      },
      "source": [
        "historyDeep = modelDeep.fit(dataTrain, trainLabels, validation_data=(dataDev, devLabels), epochs=NUM_EPOCHS, batch_size=BATCH_SIZE)\n",
        "modelDeep.save(mainPath + 'EP%d_LR%de-5_LDim%d_BS%d_DEEP.h5' % (NUM_EPOCHS, int(LEARNING_RATE * (10 ** 5)), LSTM_DIM, BATCH_SIZE))"
      ],
      "execution_count": 22,
      "outputs": [
        {
          "output_type": "stream",
          "text": [
            "Epoch 1/100\n",
            "151/151 [==============================] - 66s 437ms/step - loss: 1.0858 - acc: 0.5552 - val_loss: 0.4142 - val_acc: 0.8622\n",
            "Epoch 2/100\n",
            "151/151 [==============================] - 64s 423ms/step - loss: 0.6941 - acc: 0.7359 - val_loss: 0.4905 - val_acc: 0.8248\n",
            "Epoch 3/100\n",
            "151/151 [==============================] - 64s 425ms/step - loss: 0.5512 - acc: 0.7928 - val_loss: 0.4399 - val_acc: 0.8441\n",
            "Epoch 4/100\n",
            "151/151 [==============================] - 64s 424ms/step - loss: 0.4699 - acc: 0.8237 - val_loss: 0.4869 - val_acc: 0.8103\n",
            "Epoch 5/100\n",
            "151/151 [==============================] - 64s 422ms/step - loss: 0.4130 - acc: 0.8475 - val_loss: 0.4484 - val_acc: 0.8375\n",
            "Epoch 6/100\n",
            "151/151 [==============================] - 64s 424ms/step - loss: 0.3778 - acc: 0.8600 - val_loss: 0.3477 - val_acc: 0.8816\n",
            "Epoch 7/100\n",
            "151/151 [==============================] - 64s 424ms/step - loss: 0.3406 - acc: 0.8721 - val_loss: 0.3662 - val_acc: 0.8811\n",
            "Epoch 8/100\n",
            "151/151 [==============================] - 64s 424ms/step - loss: 0.3169 - acc: 0.8818 - val_loss: 0.3650 - val_acc: 0.8767\n",
            "Epoch 9/100\n",
            "151/151 [==============================] - 64s 424ms/step - loss: 0.2936 - acc: 0.8881 - val_loss: 0.3592 - val_acc: 0.8802\n",
            "Epoch 10/100\n",
            "151/151 [==============================] - 64s 424ms/step - loss: 0.2654 - acc: 0.8986 - val_loss: 0.4314 - val_acc: 0.8729\n",
            "Epoch 11/100\n",
            "151/151 [==============================] - 64s 423ms/step - loss: 0.2461 - acc: 0.9048 - val_loss: 0.4045 - val_acc: 0.8840\n",
            "Epoch 12/100\n",
            "151/151 [==============================] - 64s 422ms/step - loss: 0.2261 - acc: 0.9144 - val_loss: 0.5011 - val_acc: 0.8597\n",
            "Epoch 13/100\n",
            "151/151 [==============================] - 64s 423ms/step - loss: 0.2150 - acc: 0.9176 - val_loss: 0.5308 - val_acc: 0.8586\n",
            "Epoch 14/100\n",
            "151/151 [==============================] - 64s 422ms/step - loss: 0.1931 - acc: 0.9269 - val_loss: 0.4638 - val_acc: 0.8820\n",
            "Epoch 15/100\n",
            "151/151 [==============================] - 64s 423ms/step - loss: 0.1765 - acc: 0.9321 - val_loss: 0.5656 - val_acc: 0.8653\n",
            "Epoch 16/100\n",
            "151/151 [==============================] - 64s 423ms/step - loss: 0.1679 - acc: 0.9359 - val_loss: 0.5814 - val_acc: 0.8789\n",
            "Epoch 17/100\n",
            "151/151 [==============================] - 64s 422ms/step - loss: 0.1552 - acc: 0.9406 - val_loss: 0.6933 - val_acc: 0.8597\n",
            "Epoch 18/100\n",
            "151/151 [==============================] - 64s 423ms/step - loss: 0.1445 - acc: 0.9458 - val_loss: 0.5416 - val_acc: 0.8684\n",
            "Epoch 19/100\n",
            "151/151 [==============================] - 64s 422ms/step - loss: 0.1351 - acc: 0.9492 - val_loss: 0.7714 - val_acc: 0.8337\n",
            "Epoch 20/100\n",
            "151/151 [==============================] - 64s 423ms/step - loss: 0.1286 - acc: 0.9520 - val_loss: 0.7737 - val_acc: 0.8488\n",
            "Epoch 21/100\n",
            "151/151 [==============================] - 64s 422ms/step - loss: 0.1175 - acc: 0.9561 - val_loss: 0.7974 - val_acc: 0.8497\n",
            "Epoch 22/100\n",
            "151/151 [==============================] - 64s 423ms/step - loss: 0.1169 - acc: 0.9566 - val_loss: 0.6564 - val_acc: 0.8711\n",
            "Epoch 23/100\n",
            "151/151 [==============================] - 64s 423ms/step - loss: 0.1065 - acc: 0.9612 - val_loss: 0.9011 - val_acc: 0.8590\n",
            "Epoch 24/100\n",
            "151/151 [==============================] - 64s 423ms/step - loss: 0.0973 - acc: 0.9641 - val_loss: 0.7092 - val_acc: 0.8675\n",
            "Epoch 25/100\n",
            "151/151 [==============================] - 64s 423ms/step - loss: 0.0961 - acc: 0.9644 - val_loss: 0.7995 - val_acc: 0.8522\n",
            "Epoch 26/100\n",
            "151/151 [==============================] - 64s 424ms/step - loss: 0.0935 - acc: 0.9658 - val_loss: 0.8824 - val_acc: 0.8428\n",
            "Epoch 27/100\n",
            "151/151 [==============================] - 64s 424ms/step - loss: 0.0888 - acc: 0.9687 - val_loss: 0.8642 - val_acc: 0.8622\n",
            "Epoch 28/100\n",
            "151/151 [==============================] - 64s 424ms/step - loss: 0.0833 - acc: 0.9705 - val_loss: 1.1190 - val_acc: 0.8361\n",
            "Epoch 29/100\n",
            "151/151 [==============================] - 64s 423ms/step - loss: 0.0794 - acc: 0.9713 - val_loss: 1.0151 - val_acc: 0.8648\n",
            "Epoch 30/100\n",
            "151/151 [==============================] - 64s 424ms/step - loss: 0.0764 - acc: 0.9726 - val_loss: 1.1552 - val_acc: 0.8671\n",
            "Epoch 31/100\n",
            "151/151 [==============================] - 64s 423ms/step - loss: 0.0745 - acc: 0.9732 - val_loss: 0.9788 - val_acc: 0.8689\n",
            "Epoch 32/100\n",
            "151/151 [==============================] - 64s 423ms/step - loss: 0.0984 - acc: 0.9648 - val_loss: 1.1892 - val_acc: 0.8266\n",
            "Epoch 33/100\n",
            "151/151 [==============================] - 64s 423ms/step - loss: 0.0731 - acc: 0.9748 - val_loss: 1.0846 - val_acc: 0.8472\n",
            "Epoch 34/100\n",
            "151/151 [==============================] - 64s 423ms/step - loss: 0.0689 - acc: 0.9767 - val_loss: 1.1087 - val_acc: 0.8533\n",
            "Epoch 35/100\n",
            "151/151 [==============================] - 64s 423ms/step - loss: 0.0707 - acc: 0.9758 - val_loss: 1.1813 - val_acc: 0.8439\n",
            "Epoch 36/100\n",
            "151/151 [==============================] - 64s 423ms/step - loss: 0.0669 - acc: 0.9763 - val_loss: 0.9419 - val_acc: 0.8630\n",
            "Epoch 37/100\n",
            "151/151 [==============================] - 64s 422ms/step - loss: 0.0651 - acc: 0.9783 - val_loss: 1.1886 - val_acc: 0.8553\n",
            "Epoch 38/100\n",
            "151/151 [==============================] - 64s 423ms/step - loss: 0.0668 - acc: 0.9760 - val_loss: 1.0619 - val_acc: 0.8524\n",
            "Epoch 39/100\n",
            "151/151 [==============================] - 64s 424ms/step - loss: 0.0665 - acc: 0.9779 - val_loss: 1.1751 - val_acc: 0.8717\n",
            "Epoch 40/100\n",
            "151/151 [==============================] - 64s 424ms/step - loss: 0.0602 - acc: 0.9791 - val_loss: 1.4574 - val_acc: 0.8586\n",
            "Epoch 41/100\n",
            "151/151 [==============================] - 64s 423ms/step - loss: 0.0652 - acc: 0.9770 - val_loss: 1.1796 - val_acc: 0.8639\n",
            "Epoch 42/100\n",
            "151/151 [==============================] - 64s 422ms/step - loss: 0.0579 - acc: 0.9809 - val_loss: 1.6330 - val_acc: 0.8599\n",
            "Epoch 43/100\n",
            "151/151 [==============================] - 64s 422ms/step - loss: 0.0592 - acc: 0.9808 - val_loss: 1.4713 - val_acc: 0.8760\n",
            "Epoch 44/100\n",
            "151/151 [==============================] - 64s 422ms/step - loss: 0.0577 - acc: 0.9808 - val_loss: 1.3421 - val_acc: 0.8700\n",
            "Epoch 45/100\n",
            "151/151 [==============================] - 64s 422ms/step - loss: 0.0567 - acc: 0.9809 - val_loss: 1.7834 - val_acc: 0.8611\n",
            "Epoch 46/100\n",
            "151/151 [==============================] - 64s 423ms/step - loss: 0.0605 - acc: 0.9803 - val_loss: 2.0496 - val_acc: 0.8479\n",
            "Epoch 47/100\n",
            "151/151 [==============================] - 64s 422ms/step - loss: 0.0543 - acc: 0.9811 - val_loss: 1.7372 - val_acc: 0.8395\n",
            "Epoch 48/100\n",
            "151/151 [==============================] - 64s 423ms/step - loss: 0.0580 - acc: 0.9814 - val_loss: 1.7140 - val_acc: 0.8459\n",
            "Epoch 49/100\n",
            "151/151 [==============================] - 64s 423ms/step - loss: 0.0586 - acc: 0.9811 - val_loss: 1.5746 - val_acc: 0.8619\n",
            "Epoch 50/100\n",
            "151/151 [==============================] - 64s 423ms/step - loss: 0.0584 - acc: 0.9808 - val_loss: 1.4859 - val_acc: 0.8561\n",
            "Epoch 51/100\n",
            "151/151 [==============================] - 64s 423ms/step - loss: 0.0578 - acc: 0.9814 - val_loss: 1.6568 - val_acc: 0.8510\n",
            "Epoch 52/100\n",
            "151/151 [==============================] - 64s 423ms/step - loss: 0.0587 - acc: 0.9797 - val_loss: 2.0319 - val_acc: 0.8448\n",
            "Epoch 53/100\n",
            "151/151 [==============================] - 64s 423ms/step - loss: 0.0583 - acc: 0.9809 - val_loss: 1.9955 - val_acc: 0.8577\n",
            "Epoch 54/100\n",
            "151/151 [==============================] - 64s 423ms/step - loss: 0.0564 - acc: 0.9809 - val_loss: 1.8648 - val_acc: 0.8778\n",
            "Epoch 55/100\n",
            "151/151 [==============================] - 64s 422ms/step - loss: 0.0559 - acc: 0.9813 - val_loss: 1.7221 - val_acc: 0.8548\n",
            "Epoch 56/100\n",
            "151/151 [==============================] - 64s 422ms/step - loss: 0.0542 - acc: 0.9819 - val_loss: 1.9338 - val_acc: 0.8568\n",
            "Epoch 57/100\n",
            "151/151 [==============================] - 64s 422ms/step - loss: 0.0556 - acc: 0.9827 - val_loss: 1.7512 - val_acc: 0.8573\n",
            "Epoch 58/100\n",
            "151/151 [==============================] - 64s 422ms/step - loss: 0.0513 - acc: 0.9820 - val_loss: 1.9690 - val_acc: 0.8700\n",
            "Epoch 59/100\n",
            "151/151 [==============================] - 64s 422ms/step - loss: 0.0539 - acc: 0.9825 - val_loss: 1.7420 - val_acc: 0.8686\n",
            "Epoch 60/100\n",
            "151/151 [==============================] - 64s 422ms/step - loss: 0.0554 - acc: 0.9820 - val_loss: 1.6074 - val_acc: 0.8677\n",
            "Epoch 61/100\n",
            "151/151 [==============================] - 64s 422ms/step - loss: 0.0516 - acc: 0.9829 - val_loss: 1.8308 - val_acc: 0.8611\n",
            "Epoch 62/100\n",
            "151/151 [==============================] - 64s 423ms/step - loss: 0.0516 - acc: 0.9822 - val_loss: 1.9253 - val_acc: 0.8686\n",
            "Epoch 63/100\n",
            "151/151 [==============================] - 64s 422ms/step - loss: 0.0495 - acc: 0.9839 - val_loss: 1.7315 - val_acc: 0.8659\n",
            "Epoch 64/100\n",
            "151/151 [==============================] - 64s 422ms/step - loss: 0.0506 - acc: 0.9839 - val_loss: 1.9059 - val_acc: 0.8709\n",
            "Epoch 65/100\n",
            "151/151 [==============================] - 64s 422ms/step - loss: 0.0512 - acc: 0.9838 - val_loss: 2.0086 - val_acc: 0.8635\n",
            "Epoch 66/100\n",
            "151/151 [==============================] - 64s 422ms/step - loss: 0.0574 - acc: 0.9790 - val_loss: 2.2598 - val_acc: 0.8655\n",
            "Epoch 67/100\n",
            "151/151 [==============================] - 64s 421ms/step - loss: 0.0494 - acc: 0.9839 - val_loss: 1.9190 - val_acc: 0.8586\n",
            "Epoch 68/100\n",
            "151/151 [==============================] - 64s 421ms/step - loss: 0.0551 - acc: 0.9821 - val_loss: 1.8997 - val_acc: 0.8530\n",
            "Epoch 69/100\n",
            "151/151 [==============================] - 64s 421ms/step - loss: 0.0500 - acc: 0.9843 - val_loss: 1.6040 - val_acc: 0.8528\n",
            "Epoch 70/100\n",
            "151/151 [==============================] - 64s 423ms/step - loss: 0.0481 - acc: 0.9835 - val_loss: 1.8361 - val_acc: 0.8695\n",
            "Epoch 71/100\n",
            "151/151 [==============================] - 64s 423ms/step - loss: 0.0494 - acc: 0.9835 - val_loss: 2.1181 - val_acc: 0.8504\n",
            "Epoch 72/100\n",
            "151/151 [==============================] - 64s 421ms/step - loss: 0.0537 - acc: 0.9829 - val_loss: 2.0342 - val_acc: 0.8533\n",
            "Epoch 73/100\n",
            "151/151 [==============================] - 64s 421ms/step - loss: 0.0513 - acc: 0.9840 - val_loss: 1.8474 - val_acc: 0.8693\n",
            "Epoch 74/100\n",
            "151/151 [==============================] - 64s 422ms/step - loss: 0.0519 - acc: 0.9835 - val_loss: 2.0647 - val_acc: 0.8581\n",
            "Epoch 75/100\n",
            "151/151 [==============================] - 64s 422ms/step - loss: 0.0475 - acc: 0.9840 - val_loss: 2.5267 - val_acc: 0.8655\n",
            "Epoch 76/100\n",
            "151/151 [==============================] - 64s 422ms/step - loss: 0.0477 - acc: 0.9840 - val_loss: 2.2706 - val_acc: 0.8550\n",
            "Epoch 77/100\n",
            "151/151 [==============================] - 63s 420ms/step - loss: 0.0516 - acc: 0.9836 - val_loss: 1.7185 - val_acc: 0.8664\n",
            "Epoch 78/100\n",
            "151/151 [==============================] - 64s 421ms/step - loss: 0.0526 - acc: 0.9818 - val_loss: 2.0776 - val_acc: 0.8640\n",
            "Epoch 79/100\n",
            "151/151 [==============================] - 64s 422ms/step - loss: 0.0504 - acc: 0.9839 - val_loss: 2.1486 - val_acc: 0.8673\n",
            "Epoch 80/100\n",
            "151/151 [==============================] - 64s 421ms/step - loss: 0.0562 - acc: 0.9817 - val_loss: 2.2461 - val_acc: 0.8501\n",
            "Epoch 81/100\n",
            "151/151 [==============================] - 64s 421ms/step - loss: 0.0523 - acc: 0.9839 - val_loss: 2.0460 - val_acc: 0.8735\n",
            "Epoch 82/100\n",
            "151/151 [==============================] - 64s 422ms/step - loss: 0.0530 - acc: 0.9837 - val_loss: 1.8589 - val_acc: 0.8717\n",
            "Epoch 83/100\n",
            "151/151 [==============================] - 64s 421ms/step - loss: 0.0525 - acc: 0.9834 - val_loss: 1.9196 - val_acc: 0.8708\n",
            "Epoch 84/100\n",
            "151/151 [==============================] - 64s 422ms/step - loss: 0.0471 - acc: 0.9844 - val_loss: 2.1969 - val_acc: 0.8602\n",
            "Epoch 85/100\n",
            "151/151 [==============================] - 64s 421ms/step - loss: 0.0471 - acc: 0.9840 - val_loss: 2.2068 - val_acc: 0.8640\n",
            "Epoch 86/100\n",
            "151/151 [==============================] - 64s 421ms/step - loss: 0.0532 - acc: 0.9834 - val_loss: 1.8193 - val_acc: 0.8709\n",
            "Epoch 87/100\n",
            "151/151 [==============================] - 64s 422ms/step - loss: 0.0485 - acc: 0.9857 - val_loss: 2.0285 - val_acc: 0.8688\n",
            "Epoch 88/100\n",
            "151/151 [==============================] - 64s 422ms/step - loss: 0.0549 - acc: 0.9846 - val_loss: 1.7228 - val_acc: 0.8575\n",
            "Epoch 89/100\n",
            "151/151 [==============================] - 64s 422ms/step - loss: 0.0500 - acc: 0.9821 - val_loss: 1.6546 - val_acc: 0.8755\n",
            "Epoch 90/100\n",
            "151/151 [==============================] - 64s 422ms/step - loss: 0.0776 - acc: 0.9749 - val_loss: 1.8837 - val_acc: 0.8628\n",
            "Epoch 91/100\n",
            "151/151 [==============================] - 64s 423ms/step - loss: 0.0654 - acc: 0.9787 - val_loss: 2.1599 - val_acc: 0.8764\n",
            "Epoch 92/100\n",
            "151/151 [==============================] - 64s 422ms/step - loss: 0.0545 - acc: 0.9821 - val_loss: 2.3493 - val_acc: 0.8504\n",
            "Epoch 93/100\n",
            "151/151 [==============================] - 64s 422ms/step - loss: 0.0539 - acc: 0.9822 - val_loss: 2.5858 - val_acc: 0.8566\n",
            "Epoch 94/100\n",
            "151/151 [==============================] - 64s 423ms/step - loss: 0.0538 - acc: 0.9817 - val_loss: 2.1438 - val_acc: 0.8704\n",
            "Epoch 95/100\n",
            "151/151 [==============================] - 64s 422ms/step - loss: 0.0533 - acc: 0.9822 - val_loss: 2.0823 - val_acc: 0.8691\n",
            "Epoch 96/100\n",
            "151/151 [==============================] - 64s 422ms/step - loss: 0.0544 - acc: 0.9839 - val_loss: 2.1545 - val_acc: 0.8611\n",
            "Epoch 97/100\n",
            "151/151 [==============================] - 64s 422ms/step - loss: 0.0482 - acc: 0.9848 - val_loss: 2.6901 - val_acc: 0.8557\n",
            "Epoch 98/100\n",
            "151/151 [==============================] - 64s 422ms/step - loss: 0.0570 - acc: 0.9834 - val_loss: 1.9092 - val_acc: 0.8502\n",
            "Epoch 99/100\n",
            "151/151 [==============================] - 64s 422ms/step - loss: 0.0493 - acc: 0.9840 - val_loss: 1.9103 - val_acc: 0.8533\n",
            "Epoch 100/100\n",
            "151/151 [==============================] - 64s 422ms/step - loss: 0.0526 - acc: 0.9835 - val_loss: 2.1798 - val_acc: 0.8649\n"
          ],
          "name": "stdout"
        }
      ]
    },
    {
      "cell_type": "code",
      "metadata": {
        "id": "WbsO6tjiRrso",
        "colab_type": "code",
        "colab": {
          "base_uri": "https://localhost:8080/",
          "height": 405
        },
        "outputId": "ba352d40-4ee9-4a52-f24d-3f9959f2bddd"
      },
      "source": [
        "rcParams['figure.figsize'] = 16, 6\n",
        "\n",
        "fig, (ax1, ax2) = plt.subplots(1, 2)\n",
        "ax1.plot(history.history['loss'])\n",
        "ax1.plot(historyDeep.history['loss'])\n",
        "ax1.set(xlabel='epoch', ylabel='loss')\n",
        "ax1.legend(['LSTM_one', 'LSTM_deep'], loc='right')\n",
        "ax2.plot(history.history['acc'])\n",
        "ax2.plot(historyDeep.history['acc'])\n",
        "ax2.set(xlabel='epoch', ylabel='accuracy')\n",
        "ax2.legend(['LSTM_one', 'LSTM_deep'], loc='lower right')"
      ],
      "execution_count": 23,
      "outputs": [
        {
          "output_type": "execute_result",
          "data": {
            "text/plain": [
              "<matplotlib.legend.Legend at 0x7f7d3320b9e8>"
            ]
          },
          "metadata": {
            "tags": []
          },
          "execution_count": 23
        },
        {
          "output_type": "display_data",
          "data": {
            "image/png": "[encoded data removed]",
            "text/plain": [
              "<Figure size 1152x432 with 2 Axes>"
            ]
          },
          "metadata": {
            "tags": [],
            "needs_background": "light"
          }
        }
      ]
    },
    {
      "cell_type": "code",
      "metadata": {
        "id": "c8ePC6nnR_lc",
        "colab_type": "code",
        "colab": {
          "base_uri": "https://localhost:8080/",
          "height": 170
        },
        "outputId": "18198c63-ebed-465c-b50a-2e0b2de0fc03"
      },
      "source": [
        "predictionsDeep = modelDeep.predict(dataTest, batch_size=BATCH_SIZE)\n",
        "accuracyDeep, microPrecisionDeep, microRecallDeep, microF1Deep = getMetrics(predictionsDeep, testLabels)"
      ],
      "execution_count": 24,
      "outputs": [
        {
          "output_type": "stream",
          "text": [
            "True Positives per class :  [4176.  174.  172.  243.]\n",
            "False Positives per class :  [181. 172. 198. 193.]\n",
            "False Negatives per class :  [501. 110.  78.  55.]\n",
            "Class happy : Precision : 0.503, Recall : 0.613, F1 : 0.552\n",
            "Class sad : Precision : 0.465, Recall : 0.688, F1 : 0.555\n",
            "Class angry : Precision : 0.557, Recall : 0.815, F1 : 0.662\n",
            "Ignoring the Others class, Macro Precision : 0.5084, Macro Recall : 0.7054, Macro F1 : 0.5909\n",
            "Ignoring the Others class, Micro TP : 589, FP : 563, FN : 243\n",
            "Accuracy : 0.8649, Micro Precision : 0.5113, Micro Recall : 0.7079, Micro F1 : 0.5937\n"
          ],
          "name": "stdout"
        }
      ]
    },
    {
      "cell_type": "code",
      "metadata": {
        "id": "bPb_OprWaeRB",
        "colab_type": "code",
        "colab": {}
      },
      "source": [
        ""
      ],
      "execution_count": null,
      "outputs": []
    }
  ]
}